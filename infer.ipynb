{
 "cells": [
  {
   "cell_type": "code",
   "execution_count": 2,
   "metadata": {},
   "outputs": [
    {
     "name": "stdout",
     "output_type": "stream",
     "text": [
      " * Serving Flask app '__main__'\n",
      " * Debug mode: on\n"
     ]
    },
    {
     "name": "stderr",
     "output_type": "stream",
     "text": [
      "WARNING: This is a development server. Do not use it in a production deployment. Use a production WSGI server instead.\n",
      " * Running on http://127.0.0.1:5000\n",
      "Press CTRL+C to quit\n",
      " * Restarting with watchdog (windowsapi)\n"
     ]
    },
    {
     "ename": "SystemExit",
     "evalue": "1",
     "output_type": "error",
     "traceback": [
      "An exception has occurred, use %tb to see the full traceback.\n",
      "\u001b[1;31mSystemExit\u001b[0m\u001b[1;31m:\u001b[0m 1\n"
     ]
    },
    {
     "name": "stderr",
     "output_type": "stream",
     "text": [
      "c:\\Users\\zirot\\anaconda3\\envs\\Test\\Lib\\site-packages\\IPython\\core\\interactiveshell.py:3585: UserWarning: To exit: use 'exit', 'quit', or Ctrl-D.\n",
      "  warn(\"To exit: use 'exit', 'quit', or Ctrl-D.\", stacklevel=1)\n"
     ]
    }
   ],
   "source": [
    "from flask import Flask, render_template, request, redirect, url_for\n",
    "import os\n",
    "import pandas as pd\n",
    "\n",
    "app = Flask(__name__)\n",
    "UPLOAD_FOLDER = 'uploads/'\n",
    "app.config['UPLOAD_FOLDER'] = UPLOAD_FOLDER\n",
    "\n",
    "# Create the upload folder if it doesn't exist\n",
    "if not os.path.exists(UPLOAD_FOLDER):\n",
    "    os.makedirs(UPLOAD_FOLDER)\n",
    "\n",
    "class DataIngestion:\n",
    "    def __init__(self, file_path):\n",
    "        self.file_path = file_path\n",
    "        self.data = None\n",
    "        self.file_type = self.infer_file_type()\n",
    "\n",
    "    def infer_file_type(self):\n",
    "        _, file_extension = os.path.splitext(self.file_path)\n",
    "        return file_extension.lower()\n",
    "\n",
    "    def ingest_file(self):\n",
    "        if self.file_type == \".csv\":\n",
    "            self.data = self.read_csv()\n",
    "        elif self.file_type in [\".xls\", \".xlsx\"]:\n",
    "            self.data = self.read_excel()\n",
    "        elif self.file_type == \".json\":\n",
    "            self.data = self.read_json()\n",
    "        elif self.file_type == \".parquet\":\n",
    "            self.data = self.read_parquet()\n",
    "        elif self.file_type == \".yaml\" or self.file_type == \".yml\":\n",
    "            self.data = self.read_yaml()\n",
    "        else:\n",
    "            raise ValueError(f\"Unsupported file type: {self.file_type}\")\n",
    "\n",
    "    def read_csv(self):\n",
    "        return pd.read_csv(self.file_path)\n",
    "\n",
    "    def read_excel(self):\n",
    "        return pd.read_excel(self.file_path)\n",
    "\n",
    "    def read_json(self):\n",
    "        with open(self.file_path, 'r') as f:\n",
    "            return json.load(f)\n",
    "\n",
    "    def read_parquet(self):\n",
    "        return pd.read_parquet(self.file_path)\n",
    "\n",
    "    def read_yaml(self):\n",
    "        with open(self.file_path, 'r') as f:\n",
    "            return yaml.safe_load(f)\n",
    "\n",
    "@app.route('/')\n",
    "def index():\n",
    "    return render_template('index.html')\n",
    "\n",
    "@app.route('/upload', methods=['POST'])\n",
    "def upload_file():\n",
    "    if 'file' not in request.files:\n",
    "        return \"No file part\", 400\n",
    "\n",
    "    file = request.files['file']\n",
    "    if file.filename == '':\n",
    "        return \"No selected file\", 400\n",
    "\n",
    "    file_path = os.path.join(app.config['UPLOAD_FOLDER'], file.filename)\n",
    "    file.save(file_path)\n",
    "\n",
    "    # Ingest the uploaded file\n",
    "    data_ingestion = DataIngestion(file_path)\n",
    "    data_ingestion.ingest_file()\n",
    "\n",
    "    # Optionally return some kind of response\n",
    "    return \"File uploaded and ingested successfully\"\n",
    "\n",
    "if __name__ == '__main__':\n",
    "    app.run(debug=True)\n"
   ]
  }
 ],
 "metadata": {
  "kernelspec": {
   "display_name": "spacyy",
   "language": "python",
   "name": "python3"
  },
  "language_info": {
   "codemirror_mode": {
    "name": "ipython",
    "version": 3
   },
   "file_extension": ".py",
   "mimetype": "text/x-python",
   "name": "python",
   "nbconvert_exporter": "python",
   "pygments_lexer": "ipython3",
   "version": "3.9.20"
  }
 },
 "nbformat": 4,
 "nbformat_minor": 2
}
